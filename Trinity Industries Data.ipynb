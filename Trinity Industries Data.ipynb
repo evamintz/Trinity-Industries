{
 "cells": [
  {
   "cell_type": "markdown",
   "metadata": {},
   "source": [
    "## Trinity Industries - Train Car Repair Cycle Time Analysis"
   ]
  },
  {
   "cell_type": "markdown",
   "metadata": {},
   "source": [
    "This notebook dives into a set of train car data. The goal is to better understand what drives repair cycle time and create a model to help predict it in order to improve fleet management efficiency and subsequent businesses that rely on it. It begins with initial thoughts on the data at first glance and goes into exploratory data analysis which includes checking for cleanliness of data and visualization. Following is feature engineering and statistically analysis, finishing up with a quick look at different machine learning algorithms to give an idea what direction the project should be taken in to best predict cycle time."
   ]
  },
  {
   "cell_type": "markdown",
   "metadata": {},
   "source": [
    "Review Variables fields:\n",
    "\n",
    "a. ArrivalDate, DateCompleted – Datetime\n",
    "\n",
    "b. ShopRecordID – Shopping event Identifier\n",
    "\n",
    "c. ShopID – Shop location identifier\n",
    "\n",
    "d. CarModelID – Car model identifier\n",
    "\n",
    "e. CommodityID – Commodity Type Identifier\n",
    "\n",
    "f. CycleTime – Time between arrival to completion\n",
    "\n",
    "g. RepairTypeID – Repair Type Identifier\n",
    "\n",
    "h. Comp_isHeavy – Heavy work for repair event identifier"
   ]
  },
  {
   "cell_type": "markdown",
   "metadata": {},
   "source": [
    "Initial thoughts:\n",
    "\n",
    "- Average cycleTime? Fastest, slowest?\n",
    "\n",
    "- Most common carmodel/repairtype\n",
    "\n",
    "- Which shops are most used (based on location, skill, repair type, or other ?)\n",
    "\n",
    "- Is a certain time of year harder on cars?\n",
    "    - Increasing repair volume leading to higher cycle time\n",
    "\n",
    "- Is there any waiting time for the cars after arrival? \n",
    "    - ie: is the week the car sits waiting for repair included in cycle time\n",
    "    - How much do these times vary?\n",
    "    - Are there priority repairs?\n",
    "\n",
    "- Figure out which are major factors affecting repair time\n",
    "    - Are certain car models more laborious to repair\n",
    "    - Do certain shops work more/less efficiently\n",
    "    - How does commodity type affect time, if at all\n",
    "        - Do different commodity types use the same car models?\n",
    "    - Repair types\n",
    "        - Which have lowest/highest avg times\n",
    "    - comp_isHeavy"
   ]
  },
  {
   "cell_type": "code",
   "execution_count": 1,
   "metadata": {
    "collapsed": true
   },
   "outputs": [
    {
     "name": "stderr",
     "output_type": "stream",
     "text": [
      "/home/evan/Programming/lib/python3.7/site-packages/sklearn/utils/deprecation.py:144: FutureWarning: The sklearn.utils.testing module is  deprecated in version 0.22 and will be removed in version 0.24. The corresponding classes / functions should instead be imported from sklearn.utils. Anything that cannot be imported from sklearn.utils is now part of the private API.\n",
      "  warnings.warn(message, FutureWarning)\n"
     ]
    }
   ],
   "source": [
    "#import necessary packages\n",
    "\n",
    "#data manipulating/organizing and plotting\n",
    "import pandas as pd\n",
    "import pandas.plotting\n",
    "import csv\n",
    "import matplotlib\n",
    "import matplotlib.pyplot as plt\n",
    "import numpy as np\n",
    "import seaborn as sns\n",
    "from dython import nominal\n",
    "\n",
    "#set pandas to display all rows within df\n",
    "pandas.set_option('display.max_rows', None)\n",
    "\n",
    "#import stats package\n",
    "from scipy import stats\n",
    "\n",
    "#machine learning\n",
    "from sklearn.preprocessing import MinMaxScaler\n",
    "from sklearn.model_selection import train_test_split, KFold, cross_val_score, GridSearchCV\n",
    "from sklearn.svm import LinearSVC\n",
    "from sklearn.linear_model import LogisticRegression\n",
    "from sklearn.ensemble import RandomForestClassifier\n",
    "from sklearn.discriminant_analysis import LinearDiscriminantAnalysis\n",
    "from sklearn.naive_bayes import GaussianNB\n",
    "from sklearn.tree import DecisionTreeClassifier\n",
    "from sklearn.neighbors import KNeighborsClassifier\n",
    "from sklearn.metrics import classification_report, confusion_matrix, accuracy_score\n",
    "\n",
    "#deal with any warnings\n",
    "from sklearn.utils.testing import ignore_warnings\n",
    "from sklearn.exceptions import ConvergenceWarning\n",
    "from warnings import simplefilter\n",
    "\n",
    "# ignore all future warnings\n",
    "simplefilter(action='ignore', category=FutureWarning)"
   ]
  },
  {
   "cell_type": "code",
   "execution_count": 2,
   "metadata": {},
   "outputs": [
    {
     "data": {
      "text/html": [
       "<div>\n",
       "<style scoped>\n",
       "    .dataframe tbody tr th:only-of-type {\n",
       "        vertical-align: middle;\n",
       "    }\n",
       "\n",
       "    .dataframe tbody tr th {\n",
       "        vertical-align: top;\n",
       "    }\n",
       "\n",
       "    .dataframe thead th {\n",
       "        text-align: right;\n",
       "    }\n",
       "</style>\n",
       "<table border=\"1\" class=\"dataframe\">\n",
       "  <thead>\n",
       "    <tr style=\"text-align: right;\">\n",
       "      <th></th>\n",
       "      <th>ArrivalDate</th>\n",
       "      <th>DateCompleted</th>\n",
       "      <th>ShopRecordID</th>\n",
       "      <th>ShopID</th>\n",
       "      <th>CarModelID</th>\n",
       "      <th>CommodityID</th>\n",
       "      <th>CycleTime</th>\n",
       "      <th>RepairTypeID</th>\n",
       "      <th>Comp_isHeavy</th>\n",
       "    </tr>\n",
       "  </thead>\n",
       "  <tbody>\n",
       "    <tr>\n",
       "      <th>0</th>\n",
       "      <td>2018-01-26</td>\n",
       "      <td>2018-03-05</td>\n",
       "      <td>361496</td>\n",
       "      <td>464</td>\n",
       "      <td>1614</td>\n",
       "      <td>63</td>\n",
       "      <td>38.0</td>\n",
       "      <td>18</td>\n",
       "      <td>1</td>\n",
       "    </tr>\n",
       "    <tr>\n",
       "      <th>1</th>\n",
       "      <td>2018-03-27</td>\n",
       "      <td>2018-05-11</td>\n",
       "      <td>369711</td>\n",
       "      <td>5738</td>\n",
       "      <td>1762</td>\n",
       "      <td>36</td>\n",
       "      <td>45.0</td>\n",
       "      <td>18</td>\n",
       "      <td>1</td>\n",
       "    </tr>\n",
       "    <tr>\n",
       "      <th>2</th>\n",
       "      <td>2018-03-15</td>\n",
       "      <td>2018-08-01</td>\n",
       "      <td>369720</td>\n",
       "      <td>12479</td>\n",
       "      <td>1639</td>\n",
       "      <td>64</td>\n",
       "      <td>139.0</td>\n",
       "      <td>18</td>\n",
       "      <td>0</td>\n",
       "    </tr>\n",
       "    <tr>\n",
       "      <th>3</th>\n",
       "      <td>2018-03-15</td>\n",
       "      <td>2018-10-25</td>\n",
       "      <td>370918</td>\n",
       "      <td>12479</td>\n",
       "      <td>1639</td>\n",
       "      <td>64</td>\n",
       "      <td>224.0</td>\n",
       "      <td>18</td>\n",
       "      <td>0</td>\n",
       "    </tr>\n",
       "    <tr>\n",
       "      <th>4</th>\n",
       "      <td>2018-01-29</td>\n",
       "      <td>2018-03-07</td>\n",
       "      <td>372819</td>\n",
       "      <td>380</td>\n",
       "      <td>1697</td>\n",
       "      <td>37</td>\n",
       "      <td>37.0</td>\n",
       "      <td>18</td>\n",
       "      <td>1</td>\n",
       "    </tr>\n",
       "  </tbody>\n",
       "</table>\n",
       "</div>"
      ],
      "text/plain": [
       "  ArrivalDate DateCompleted  ShopRecordID  ShopID  CarModelID  CommodityID  \\\n",
       "0  2018-01-26    2018-03-05        361496     464        1614           63   \n",
       "1  2018-03-27    2018-05-11        369711    5738        1762           36   \n",
       "2  2018-03-15    2018-08-01        369720   12479        1639           64   \n",
       "3  2018-03-15    2018-10-25        370918   12479        1639           64   \n",
       "4  2018-01-29    2018-03-07        372819     380        1697           37   \n",
       "\n",
       "   CycleTime  RepairTypeID  Comp_isHeavy  \n",
       "0       38.0            18             1  \n",
       "1       45.0            18             1  \n",
       "2      139.0            18             0  \n",
       "3      224.0            18             0  \n",
       "4       37.0            18             1  "
      ]
     },
     "execution_count": 2,
     "metadata": {},
     "output_type": "execute_result"
    }
   ],
   "source": [
    "#import dataset\n",
    "df = pd.read_excel(r'/home/evan/Downloads/Copy of datatestset.xlsx')\n",
    "df.head()"
   ]
  },
  {
   "cell_type": "markdown",
   "metadata": {},
   "source": [
    "## EDA and checking for general errors in data"
   ]
  },
  {
   "cell_type": "code",
   "execution_count": 32,
   "metadata": {},
   "outputs": [
    {
     "name": "stdout",
     "output_type": "stream",
     "text": [
      "<class 'pandas.core.frame.DataFrame'>\n",
      "RangeIndex: 3610 entries, 0 to 3609\n",
      "Data columns (total 9 columns):\n",
      " #   Column         Non-Null Count  Dtype         \n",
      "---  ------         --------------  -----         \n",
      " 0   ArrivalDate    3610 non-null   datetime64[ns]\n",
      " 1   DateCompleted  3575 non-null   datetime64[ns]\n",
      " 2   ShopRecordID   3610 non-null   int64         \n",
      " 3   ShopID         3610 non-null   int64         \n",
      " 4   CarModelID     3610 non-null   int64         \n",
      " 5   CommodityID    3610 non-null   int64         \n",
      " 6   CycleTime      3575 non-null   float64       \n",
      " 7   RepairTypeID   3610 non-null   int64         \n",
      " 8   Comp_isHeavy   3610 non-null   int64         \n",
      "dtypes: datetime64[ns](2), float64(1), int64(6)\n",
      "memory usage: 254.0 KB\n"
     ]
    }
   ],
   "source": [
    "#overview of data\n",
    "df.info()"
   ]
  },
  {
   "cell_type": "markdown",
   "metadata": {},
   "source": [
    "3610 total items, 35 items still not completed (3575 completed)\n",
    "\n",
    "Will probably drop any rows with uncompleted repairs as it wont help predict anything"
   ]
  },
  {
   "cell_type": "code",
   "execution_count": 33,
   "metadata": {
    "scrolled": true
   },
   "outputs": [
    {
     "data": {
      "text/html": [
       "<div>\n",
       "<style scoped>\n",
       "    .dataframe tbody tr th:only-of-type {\n",
       "        vertical-align: middle;\n",
       "    }\n",
       "\n",
       "    .dataframe tbody tr th {\n",
       "        vertical-align: top;\n",
       "    }\n",
       "\n",
       "    .dataframe thead th {\n",
       "        text-align: right;\n",
       "    }\n",
       "</style>\n",
       "<table border=\"1\" class=\"dataframe\">\n",
       "  <thead>\n",
       "    <tr style=\"text-align: right;\">\n",
       "      <th></th>\n",
       "      <th>ShopRecordID</th>\n",
       "      <th>ShopID</th>\n",
       "      <th>CarModelID</th>\n",
       "      <th>CommodityID</th>\n",
       "      <th>CycleTime</th>\n",
       "      <th>RepairTypeID</th>\n",
       "      <th>Comp_isHeavy</th>\n",
       "    </tr>\n",
       "  </thead>\n",
       "  <tbody>\n",
       "    <tr>\n",
       "      <th>count</th>\n",
       "      <td>3610.000000</td>\n",
       "      <td>3610.000000</td>\n",
       "      <td>3610.000000</td>\n",
       "      <td>3610.000000</td>\n",
       "      <td>3575.000000</td>\n",
       "      <td>3610.0</td>\n",
       "      <td>3610.000000</td>\n",
       "    </tr>\n",
       "    <tr>\n",
       "      <th>mean</th>\n",
       "      <td>396417.513296</td>\n",
       "      <td>5811.162881</td>\n",
       "      <td>1716.947091</td>\n",
       "      <td>55.120499</td>\n",
       "      <td>98.002517</td>\n",
       "      <td>18.0</td>\n",
       "      <td>0.708587</td>\n",
       "    </tr>\n",
       "    <tr>\n",
       "      <th>std</th>\n",
       "      <td>8551.154689</td>\n",
       "      <td>5354.076195</td>\n",
       "      <td>97.310179</td>\n",
       "      <td>13.947161</td>\n",
       "      <td>78.798666</td>\n",
       "      <td>0.0</td>\n",
       "      <td>0.454476</td>\n",
       "    </tr>\n",
       "    <tr>\n",
       "      <th>min</th>\n",
       "      <td>361496.000000</td>\n",
       "      <td>378.000000</td>\n",
       "      <td>843.000000</td>\n",
       "      <td>26.000000</td>\n",
       "      <td>0.000000</td>\n",
       "      <td>18.0</td>\n",
       "      <td>0.000000</td>\n",
       "    </tr>\n",
       "    <tr>\n",
       "      <th>25%</th>\n",
       "      <td>388725.250000</td>\n",
       "      <td>380.000000</td>\n",
       "      <td>1639.000000</td>\n",
       "      <td>37.000000</td>\n",
       "      <td>38.000000</td>\n",
       "      <td>18.0</td>\n",
       "      <td>0.000000</td>\n",
       "    </tr>\n",
       "    <tr>\n",
       "      <th>50%</th>\n",
       "      <td>395997.500000</td>\n",
       "      <td>5161.000000</td>\n",
       "      <td>1697.000000</td>\n",
       "      <td>63.000000</td>\n",
       "      <td>76.000000</td>\n",
       "      <td>18.0</td>\n",
       "      <td>1.000000</td>\n",
       "    </tr>\n",
       "    <tr>\n",
       "      <th>75%</th>\n",
       "      <td>402781.750000</td>\n",
       "      <td>12483.000000</td>\n",
       "      <td>1741.000000</td>\n",
       "      <td>64.000000</td>\n",
       "      <td>135.000000</td>\n",
       "      <td>18.0</td>\n",
       "      <td>1.000000</td>\n",
       "    </tr>\n",
       "    <tr>\n",
       "      <th>max</th>\n",
       "      <td>416057.000000</td>\n",
       "      <td>13708.000000</td>\n",
       "      <td>1929.000000</td>\n",
       "      <td>64.000000</td>\n",
       "      <td>611.000000</td>\n",
       "      <td>18.0</td>\n",
       "      <td>1.000000</td>\n",
       "    </tr>\n",
       "  </tbody>\n",
       "</table>\n",
       "</div>"
      ],
      "text/plain": [
       "        ShopRecordID        ShopID   CarModelID  CommodityID    CycleTime  \\\n",
       "count    3610.000000   3610.000000  3610.000000  3610.000000  3575.000000   \n",
       "mean   396417.513296   5811.162881  1716.947091    55.120499    98.002517   \n",
       "std      8551.154689   5354.076195    97.310179    13.947161    78.798666   \n",
       "min    361496.000000    378.000000   843.000000    26.000000     0.000000   \n",
       "25%    388725.250000    380.000000  1639.000000    37.000000    38.000000   \n",
       "50%    395997.500000   5161.000000  1697.000000    63.000000    76.000000   \n",
       "75%    402781.750000  12483.000000  1741.000000    64.000000   135.000000   \n",
       "max    416057.000000  13708.000000  1929.000000    64.000000   611.000000   \n",
       "\n",
       "       RepairTypeID  Comp_isHeavy  \n",
       "count        3610.0   3610.000000  \n",
       "mean           18.0      0.708587  \n",
       "std             0.0      0.454476  \n",
       "min            18.0      0.000000  \n",
       "25%            18.0      0.000000  \n",
       "50%            18.0      1.000000  \n",
       "75%            18.0      1.000000  \n",
       "max            18.0      1.000000  "
      ]
     },
     "execution_count": 33,
     "metadata": {},
     "output_type": "execute_result"
    }
   ],
   "source": [
    "#statistical overview (mainly relevant for CycleTime)\n",
    "df.describe()"
   ]
  },
  {
   "cell_type": "code",
   "execution_count": 34,
   "metadata": {
    "scrolled": true
   },
   "outputs": [
    {
     "data": {
      "image/png": "[encoded data removed]",
      "text/plain": [
       "<Figure size 432x288 with 1 Axes>"
      ]
     },
     "metadata": {
      "needs_background": "light"
     },
     "output_type": "display_data"
    }
   ],
   "source": [
    "#distribution of repair cycle times\n",
    "#positive skew\n",
    "sns.distplot(df['CycleTime'])\n",
    "plt.show()"
   ]
  },
  {
   "cell_type": "markdown",
   "metadata": {},
   "source": [
    "Key Findings:\n",
    "- Average cycle time: 98 days\n",
    "- Fastest is 0-1 day\n",
    "- Longest is 611 days\n",
    "- Strong positive skew to CycleTime distribution\n",
    "- 70% of repairs are comp heavy\n",
    "- Only 1 repair type\n",
    "\n",
    "RepairTypeID is 18 for all rows. If all repair types truly are the same then the huge variance in repair cycle time must be explained by the remaining features (or some possibilities that are not included in the data):\n",
    "- Different car models require different levels of attention for the same repair (model complexity)\n",
    "- There is a varying wait time for cars from Arrival Date to Completion Date (idle/wait time)\n",
    "    - If this is the case it will have a large negative affect on any analysis\n",
    "- Seasonal changes (also may effect shops differently)\n",
    "    - Not necessarily weather affecting the shop's ability but the cars; thus increasing shop's volume\n",
    "- Shops work at difference paces\n",
    "    - Different staff sizes\n",
    "    - Different skill levels\n",
    "- Comp_isHeavy is a major factor\n",
    "- All of the above"
   ]
  },
  {
   "cell_type": "code",
   "execution_count": 35,
   "metadata": {},
   "outputs": [
    {
     "data": {
      "image/png": "[encoded data removed]",
      "text/plain": [
       "<Figure size 432x288 with 1 Axes>"
      ]
     },
     "metadata": {
      "needs_background": "light"
     },
     "output_type": "display_data"
    }
   ],
   "source": [
    "#box and whisker plot of cycle time - note outliers\n",
    "df.CycleTime.plot(kind='box')\n",
    "plt.show()"
   ]
  },
  {
   "cell_type": "code",
   "execution_count": 7,
   "metadata": {},
   "outputs": [
    {
     "data": {
      "text/plain": [
       "ArrivalDate      118\n",
       "DateCompleted    118\n",
       "ShopRecordID     118\n",
       "ShopID           118\n",
       "CarModelID       118\n",
       "CommodityID      118\n",
       "CycleTime        118\n",
       "RepairTypeID     118\n",
       "Comp_isHeavy     118\n",
       "dtype: int64"
      ]
     },
     "execution_count": 7,
     "metadata": {},
     "output_type": "execute_result"
    }
   ],
   "source": [
    "#look at how many repairs took longer than 280 (approx outliers)\n",
    "df[df['CycleTime'] > 280].count()"
   ]
  },
  {
   "cell_type": "code",
   "execution_count": 8,
   "metadata": {},
   "outputs": [
    {
     "data": {
      "text/plain": [
       "ShopID\n",
       "11235     1\n",
       "8474      1\n",
       "524       1\n",
       "543       1\n",
       "8311      1\n",
       "12126     1\n",
       "12483     2\n",
       "465       2\n",
       "526       2\n",
       "5927      2\n",
       "2365      3\n",
       "6485      5\n",
       "830       6\n",
       "9994      7\n",
       "5738      7\n",
       "475       9\n",
       "516      10\n",
       "12486    12\n",
       "380      15\n",
       "12498    30\n",
       "Name: CycleTime, dtype: int64"
      ]
     },
     "execution_count": 8,
     "metadata": {},
     "output_type": "execute_result"
    }
   ],
   "source": [
    "#distribution of high repair times for each shop\n",
    "df[df['CycleTime'] > 280].groupby('ShopID')['CycleTime'].count().sort_values()"
   ]
  },
  {
   "cell_type": "code",
   "execution_count": 9,
   "metadata": {
    "scrolled": true
   },
   "outputs": [
    {
     "data": {
      "text/plain": [
       "CarModelID\n",
       "1705     1\n",
       "1906     1\n",
       "1897     1\n",
       "1896     1\n",
       "1779     1\n",
       "1769     1\n",
       "1748     1\n",
       "1737     1\n",
       "1734     1\n",
       "1908     1\n",
       "1697     1\n",
       "1670     1\n",
       "1920     1\n",
       "1667     1\n",
       "1669     1\n",
       "1627     2\n",
       "1778     2\n",
       "1744     2\n",
       "1641     2\n",
       "1746     2\n",
       "1611     2\n",
       "1642     2\n",
       "1686     2\n",
       "1687     3\n",
       "1635     3\n",
       "1629     3\n",
       "1614     3\n",
       "1741     4\n",
       "1661     4\n",
       "1620     4\n",
       "1685     4\n",
       "1650     5\n",
       "1639     5\n",
       "1736     6\n",
       "1735     7\n",
       "1895     7\n",
       "1775    10\n",
       "1891    19\n",
       "Name: CycleTime, dtype: int64"
      ]
     },
     "execution_count": 9,
     "metadata": {},
     "output_type": "execute_result"
    }
   ],
   "source": [
    "#distribution of high repair times for car models\n",
    "df[df['CycleTime'] > 280].groupby('CarModelID')['CycleTime'].count().sort_values()"
   ]
  },
  {
   "cell_type": "markdown",
   "metadata": {},
   "source": [
    "118 outliers (above 280 days;) make up ~3% of data. 20 different shops have had a hand in very long repair times; the most common being shop 12498 (30). Car models 1775, and 1891 have the highest count (10, 19 resp.) of slow times but are generally distributed through 38 different models."
   ]
  },
  {
   "cell_type": "code",
   "execution_count": 10,
   "metadata": {},
   "outputs": [
    {
     "data": {
      "text/html": [
       "<div>\n",
       "<style scoped>\n",
       "    .dataframe tbody tr th:only-of-type {\n",
       "        vertical-align: middle;\n",
       "    }\n",
       "\n",
       "    .dataframe tbody tr th {\n",
       "        vertical-align: top;\n",
       "    }\n",
       "\n",
       "    .dataframe thead th {\n",
       "        text-align: right;\n",
       "    }\n",
       "</style>\n",
       "<table border=\"1\" class=\"dataframe\">\n",
       "  <thead>\n",
       "    <tr style=\"text-align: right;\">\n",
       "      <th></th>\n",
       "      <th>ArrivalDate</th>\n",
       "      <th>DateCompleted</th>\n",
       "      <th>ShopRecordID</th>\n",
       "      <th>ShopID</th>\n",
       "      <th>CarModelID</th>\n",
       "      <th>CommodityID</th>\n",
       "      <th>CycleTime</th>\n",
       "      <th>RepairTypeID</th>\n",
       "      <th>Comp_isHeavy</th>\n",
       "    </tr>\n",
       "  </thead>\n",
       "  <tbody>\n",
       "  </tbody>\n",
       "</table>\n",
       "</div>"
      ],
      "text/plain": [
       "Empty DataFrame\n",
       "Columns: [ArrivalDate, DateCompleted, ShopRecordID, ShopID, CarModelID, CommodityID, CycleTime, RepairTypeID, Comp_isHeavy]\n",
       "Index: []"
      ]
     },
     "execution_count": 10,
     "metadata": {},
     "output_type": "execute_result"
    }
   ],
   "source": [
    "#checking for errors in dates (if a completed date comes before arrival)\n",
    "df[df['DateCompleted'] < df['ArrivalDate']]"
   ]
  },
  {
   "cell_type": "code",
   "execution_count": 11,
   "metadata": {},
   "outputs": [
    {
     "data": {
      "text/plain": [
       "True"
      ]
     },
     "execution_count": 11,
     "metadata": {},
     "output_type": "execute_result"
    }
   ],
   "source": [
    "#Checking for any duplicates in shop record ID's \n",
    "#'True' returns means all unique\n",
    "df[\"ShopRecordID\"].is_unique"
   ]
  },
  {
   "cell_type": "code",
   "execution_count": 12,
   "metadata": {
    "scrolled": true
   },
   "outputs": [
    {
     "data": {
      "text/plain": [
       "ShopID\n",
       "8474       1\n",
       "13334      1\n",
       "6819       1\n",
       "9926       1\n",
       "12848      1\n",
       "6544       2\n",
       "1016       2\n",
       "12484      2\n",
       "13332      2\n",
       "6834       3\n",
       "12949      3\n",
       "707        3\n",
       "11095      4\n",
       "8666       5\n",
       "476        8\n",
       "524       14\n",
       "13573     16\n",
       "11868     17\n",
       "12483     27\n",
       "475       30\n",
       "8311      30\n",
       "12347     31\n",
       "516       34\n",
       "6074      37\n",
       "526       37\n",
       "465       45\n",
       "13708     46\n",
       "5927      54\n",
       "543       56\n",
       "6485      56\n",
       "12479     57\n",
       "11235     57\n",
       "2365      57\n",
       "378       57\n",
       "10262     59\n",
       "10092     66\n",
       "592       67\n",
       "5161      74\n",
       "9994      93\n",
       "12126    105\n",
       "12486    119\n",
       "2406     128\n",
       "12493    133\n",
       "830      138\n",
       "464      171\n",
       "5738     206\n",
       "12498    568\n",
       "380      886\n",
       "Name: ShopRecordID, dtype: int64"
      ]
     },
     "execution_count": 12,
     "metadata": {},
     "output_type": "execute_result"
    }
   ],
   "source": [
    "#take a look at shops used and frequency used (count # of shop records)\n",
    "shops = df.groupby('ShopID')['ShopRecordID'].nunique()\n",
    "shops.sort_values()"
   ]
  },
  {
   "cell_type": "code",
   "execution_count": 13,
   "metadata": {},
   "outputs": [
    {
     "data": {
      "text/plain": [
       "48"
      ]
     },
     "execution_count": 13,
     "metadata": {},
     "output_type": "execute_result"
    }
   ],
   "source": [
    "#number of shops\n",
    "shops.count()"
   ]
  },
  {
   "cell_type": "markdown",
   "metadata": {},
   "source": [
    "There are 48 different shops used within this data set. One shop (380) has made almost a quarter of all repairs. "
   ]
  },
  {
   "cell_type": "code",
   "execution_count": 14,
   "metadata": {},
   "outputs": [
    {
     "data": {
      "text/plain": [
       "CommodityID\n",
       "52       3\n",
       "62       3\n",
       "34       6\n",
       "38      10\n",
       "60      49\n",
       "27     129\n",
       "36     134\n",
       "26     233\n",
       "37     486\n",
       "63     876\n",
       "64    1681\n",
       "Name: ShopRecordID, dtype: int64"
      ]
     },
     "execution_count": 14,
     "metadata": {},
     "output_type": "execute_result"
    }
   ],
   "source": [
    "#unique commodity ID's and their counts\n",
    "df.groupby('CommodityID')['ShopRecordID'].nunique().sort_values()"
   ]
  },
  {
   "cell_type": "markdown",
   "metadata": {},
   "source": [
    "11 different commodities; almost half of repairs are on cars with the same commodity."
   ]
  },
  {
   "cell_type": "code",
   "execution_count": 15,
   "metadata": {},
   "outputs": [
    {
     "data": {
      "text/plain": [
       "Comp_isHeavy\n",
       "0    1052\n",
       "1    2558\n",
       "Name: ShopRecordID, dtype: int64"
      ]
     },
     "execution_count": 15,
     "metadata": {},
     "output_type": "execute_result"
    }
   ],
   "source": [
    "#count of heavy/not heavy\n",
    "df.groupby('Comp_isHeavy')['ShopRecordID'].nunique().sort_values()"
   ]
  },
  {
   "cell_type": "code",
   "execution_count": 16,
   "metadata": {
    "scrolled": true
   },
   "outputs": [
    {
     "data": {
      "image/png": "[encoded data removed]",
      "text/plain": [
       "<Figure size 432x288 with 1 Axes>"
      ]
     },
     "metadata": {
      "needs_background": "light"
     },
     "output_type": "display_data"
    }
   ],
   "source": [
    "#histo of heavy vs not\n",
    "df.Comp_isHeavy.plot(kind='hist')\n",
    "plt.show()"
   ]
  },
  {
   "cell_type": "markdown",
   "metadata": {},
   "source": [
    "Almost 3/4 of the repairs are heavy work."
   ]
  },
  {
   "cell_type": "code",
   "execution_count": 17,
   "metadata": {
    "scrolled": true
   },
   "outputs": [
    {
     "data": {
      "text/plain": [
       "CarModelID\n",
       "843       1\n",
       "1663      1\n",
       "1669      1\n",
       "1673      1\n",
       "1679      1\n",
       "1715      1\n",
       "1928      1\n",
       "1657      1\n",
       "1725      1\n",
       "1745      1\n",
       "1748      1\n",
       "1751      1\n",
       "1770      1\n",
       "1771      1\n",
       "1774      1\n",
       "1731      1\n",
       "1643      1\n",
       "1929      1\n",
       "1612      1\n",
       "1616      1\n",
       "1622      1\n",
       "1892      2\n",
       "1676      2\n",
       "1726      2\n",
       "1618      2\n",
       "1916      2\n",
       "1749      2\n",
       "1698      2\n",
       "1920      2\n",
       "1769      2\n",
       "1598      2\n",
       "1772      2\n",
       "1773      2\n",
       "1761      2\n",
       "1688      2\n",
       "1630      3\n",
       "1470      3\n",
       "1778      3\n",
       "1905      3\n",
       "1755      4\n",
       "1919      4\n",
       "1597      4\n",
       "1734      4\n",
       "1763      5\n",
       "1724      5\n",
       "1922      5\n",
       "1607      6\n",
       "1747      6\n",
       "1737      6\n",
       "1615      6\n",
       "1641      6\n",
       "1762      6\n",
       "1742      6\n",
       "1896      6\n",
       "1779      6\n",
       "1706      7\n",
       "1739      7\n",
       "1766      8\n",
       "1743      8\n",
       "1760      8\n",
       "1601      8\n",
       "1904      8\n",
       "1672      9\n",
       "1705      9\n",
       "1661     10\n",
       "1613     10\n",
       "1746     11\n",
       "1677     12\n",
       "1602     13\n",
       "1670     14\n",
       "1686     17\n",
       "1619     19\n",
       "1632     20\n",
       "1699     21\n",
       "1906     22\n",
       "1744     22\n",
       "1629     22\n",
       "1909     22\n",
       "1757     22\n",
       "1923     23\n",
       "1908     23\n",
       "1627     24\n",
       "1634     29\n",
       "1621     31\n",
       "1735     34\n",
       "1636     35\n",
       "1687     35\n",
       "1635     43\n",
       "1611     45\n",
       "1895     47\n",
       "1741     69\n",
       "1623     70\n",
       "1775     78\n",
       "1667     82\n",
       "1897     84\n",
       "1620     91\n",
       "1891    111\n",
       "1898    122\n",
       "1614    149\n",
       "1685    153\n",
       "1736    158\n",
       "1899    176\n",
       "1642    179\n",
       "1650    224\n",
       "1639    311\n",
       "1719    338\n",
       "1697    371\n",
       "Name: ShopRecordID, dtype: int64"
      ]
     },
     "execution_count": 17,
     "metadata": {},
     "output_type": "execute_result"
    }
   ],
   "source": [
    "#grouping by model ID's to see which are most/not commonly repaired\n",
    "carmodel = df.groupby('CarModelID')['ShopRecordID'].nunique()\n",
    "carmodel.sort_values()"
   ]
  },
  {
   "cell_type": "markdown",
   "metadata": {},
   "source": [
    "107 different types of car models. Some models are repaired more often than others - this may be due to the actual model requiring more constant maintainence or there are more of those models in deployment and/or used more frequently and so needing more attention on a regular basis.\n",
    "\n",
    "More data on this would be useful to have a better understanding."
   ]
  },
  {
   "cell_type": "markdown",
   "metadata": {},
   "source": [
    "Plot cycle times based on time of year using arrival date."
   ]
  },
  {
   "cell_type": "code",
   "execution_count": 41,
   "metadata": {
    "scrolled": true
   },
   "outputs": [
    {
     "data": {
      "image/png": "[encoded data removed]",
      "text/plain": [
       "<Figure size 432x288 with 1 Axes>"
      ]
     },
     "metadata": {
      "needs_background": "light"
     },
     "output_type": "display_data"
    }
   ],
   "source": [
    "#plot cycle times throughout year based on arrival dates\n",
    "\n",
    "#exclude completion date\n",
    "dates = df.drop(['DateCompleted'], axis=1)\n",
    "\n",
    "#scatter plot - cycle time for cars arrival dates\n",
    "plt.scatter(dates.ArrivalDate, df.CycleTime)\n",
    "plt.ylabel('Cycle Time (days)')\n",
    "plt.xlabel('Arrival Date')\n",
    "plt.show()"
   ]
  },
  {
   "cell_type": "code",
   "execution_count": 42,
   "metadata": {
    "scrolled": true
   },
   "outputs": [
    {
     "data": {
      "text/html": [
       "<div>\n",
       "<style scoped>\n",
       "    .dataframe tbody tr th:only-of-type {\n",
       "        vertical-align: middle;\n",
       "    }\n",
       "\n",
       "    .dataframe tbody tr th {\n",
       "        vertical-align: top;\n",
       "    }\n",
       "\n",
       "    .dataframe thead th {\n",
       "        text-align: right;\n",
       "    }\n",
       "</style>\n",
       "<table border=\"1\" class=\"dataframe\">\n",
       "  <thead>\n",
       "    <tr style=\"text-align: right;\">\n",
       "      <th></th>\n",
       "      <th>Count</th>\n",
       "    </tr>\n",
       "    <tr>\n",
       "      <th>Month</th>\n",
       "      <th></th>\n",
       "    </tr>\n",
       "  </thead>\n",
       "  <tbody>\n",
       "    <tr>\n",
       "      <th>2018-01</th>\n",
       "      <td>321</td>\n",
       "    </tr>\n",
       "    <tr>\n",
       "      <th>2018-02</th>\n",
       "      <td>235</td>\n",
       "    </tr>\n",
       "    <tr>\n",
       "      <th>2018-03</th>\n",
       "      <td>287</td>\n",
       "    </tr>\n",
       "    <tr>\n",
       "      <th>2018-04</th>\n",
       "      <td>243</td>\n",
       "    </tr>\n",
       "    <tr>\n",
       "      <th>2018-05</th>\n",
       "      <td>272</td>\n",
       "    </tr>\n",
       "    <tr>\n",
       "      <th>2018-06</th>\n",
       "      <td>351</td>\n",
       "    </tr>\n",
       "    <tr>\n",
       "      <th>2018-07</th>\n",
       "      <td>323</td>\n",
       "    </tr>\n",
       "    <tr>\n",
       "      <th>2018-08</th>\n",
       "      <td>295</td>\n",
       "    </tr>\n",
       "    <tr>\n",
       "      <th>2018-09</th>\n",
       "      <td>269</td>\n",
       "    </tr>\n",
       "    <tr>\n",
       "      <th>2018-10</th>\n",
       "      <td>361</td>\n",
       "    </tr>\n",
       "    <tr>\n",
       "      <th>2018-11</th>\n",
       "      <td>342</td>\n",
       "    </tr>\n",
       "    <tr>\n",
       "      <th>2018-12</th>\n",
       "      <td>311</td>\n",
       "    </tr>\n",
       "  </tbody>\n",
       "</table>\n",
       "</div>"
      ],
      "text/plain": [
       "         Count\n",
       "Month         \n",
       "2018-01    321\n",
       "2018-02    235\n",
       "2018-03    287\n",
       "2018-04    243\n",
       "2018-05    272\n",
       "2018-06    351\n",
       "2018-07    323\n",
       "2018-08    295\n",
       "2018-09    269\n",
       "2018-10    361\n",
       "2018-11    342\n",
       "2018-12    311"
      ]
     },
     "execution_count": 42,
     "metadata": {},
     "output_type": "execute_result"
    }
   ],
   "source": [
    "#looking for monthly/seasonal trends\n",
    "#extract months so data can be grouped\n",
    "dates['Date'] = dates['ArrivalDate'].astype('datetime64')\n",
    "dates['Month'] = dates['ArrivalDate'].dt.strftime('%Y-%m')\n",
    "dates = dates.groupby('Month').size().to_frame(name='Count')\n",
    "dates"
   ]
  },
  {
   "cell_type": "code",
   "execution_count": 40,
   "metadata": {
    "scrolled": true
   },
   "outputs": [
    {
     "data": {
      "image/png": "[encoded data removed]",
      "text/plain": [
       "<Figure size 432x288 with 1 Axes>"
      ]
     },
     "metadata": {
      "needs_background": "light"
     },
     "output_type": "display_data"
    }
   ],
   "source": [
    "#plot repair count for each month in 2018 for arrivals\n",
    "positions = (range(12))\n",
    "labels = (1, 2, 3, 4, 5, 6, 7, 8, 9, 10, 11, 12)\n",
    "plt.xticks(positions, labels)\n",
    "\n",
    "plt.ylabel('Repair Count')\n",
    "plt.xlabel('Month')\n",
    "plt.plot(dates)\n",
    "plt.show()"
   ]
  },
  {
   "cell_type": "markdown",
   "metadata": {},
   "source": [
    "Overall there is not a huge change in arrivals for repairs throughout the year - cars appear to be largely unimpacted by time/seasons."
   ]
  },
  {
   "cell_type": "markdown",
   "metadata": {},
   "source": [
    "Quick summary of key findings:\n",
    "\n",
    "- Data appears to be clean\n",
    "- Only one repair type is being handled\n",
    "- 118 outliers in data over 280 days of repair time\n",
    "- 48 shops\n",
    "    - Repairs are not evenly distributed\n",
    "- 107 car models\n",
    "    - Are these all unique cars or could different repairs on the same model # be diff cars?\n",
    "- 11 unique commodity types\n",
    "    - Do these affect cycle times?\n",
    "- ~3/4 of repairs are on comp heavy\n",
    "- No obvious seasonal trend\n",
    "    - May be worth revisiting looking at other factors and with more data\n"
   ]
  },
  {
   "cell_type": "markdown",
   "metadata": {},
   "source": [
    "## Feature Engineering"
   ]
  },
  {
   "cell_type": "markdown",
   "metadata": {},
   "source": [
    "Here we'll try to optimize the data for analysis!\n",
    "\n",
    "Having found a small percentage of null values in the data (uncompleted repairs) rather than guessing the values they'll simply be taken out. If it was more of a significant portion of data it may make more sense to try to fill in rather than exclude.\n",
    "\n",
    "Since we're more interested in cycle time rather than actual dates the arrival and completed dates will be taken out for modeling. The dates may be useful for a time series analysis but more data would be ideal.\n",
    "\n",
    "Outliers can often have have negative impacts on algorithms so for this initial dive they'll be removed but it may be worth revisiting later as it is still real data.\n",
    "\n",
    "Generally with categorical features the values would need to be converted using one-hot encoding or another technique in order for the machine learning model to better understand and use it within the algorithm. However, since these variables are all already numerical it should work fine.\n",
    "\n"
   ]
  },
  {
   "cell_type": "code",
   "execution_count": 72,
   "metadata": {
    "scrolled": false
   },
   "outputs": [
    {
     "name": "stdout",
     "output_type": "stream",
     "text": [
      "<class 'pandas.core.frame.DataFrame'>\n",
      "Int64Index: 3485 entries, 0 to 3608\n",
      "Data columns (total 5 columns):\n",
      " #   Column        Non-Null Count  Dtype  \n",
      "---  ------        --------------  -----  \n",
      " 0   ShopID        3485 non-null   int64  \n",
      " 1   CarModelID    3485 non-null   int64  \n",
      " 2   CommodityID   3485 non-null   int64  \n",
      " 3   CycleTime     3485 non-null   float64\n",
      " 4   Comp_isHeavy  3485 non-null   int64  \n",
      "dtypes: float64(1), int64(4)\n",
      "memory usage: 163.4 KB\n"
     ]
    }
   ],
   "source": [
    "#remove any rows with null values\n",
    "\n",
    "#Note: often times it makes sense to try to fill in these values\n",
    "#with averages or guessing using the closest values\n",
    "#however with such a small percentage of NULL it makes little difference\n",
    "dff = df.dropna()\n",
    "\n",
    "#remove outliers\n",
    "dff = dff[dff.CycleTime < 280]\n",
    "\n",
    "#remove repair type column (all the same)\n",
    "#remove arrival and completed dates \n",
    "#remove ShopRecordID as this shouldn't have any impact on cycle time and would be excess noise\n",
    "\n",
    "#Note: it may be interesting to see if repair times have improved over longer\n",
    "#periods of time but all this data is within 2018/19 so likely no major changes\n",
    "\n",
    "dff = dff.drop(['ArrivalDate', 'DateCompleted', 'RepairTypeID', 'ShopRecordID'], axis = 1) \n",
    "dff.info()"
   ]
  },
  {
   "cell_type": "markdown",
   "metadata": {},
   "source": [
    "## Statistical Analysis"
   ]
  },
  {
   "cell_type": "code",
   "execution_count": 71,
   "metadata": {
    "scrolled": true
   },
   "outputs": [
    {
     "data": {
      "image/png": "[encoded data removed]",
      "text/plain": [
       "<Figure size 432x288 with 2 Axes>"
      ]
     },
     "metadata": {
      "needs_background": "light"
     },
     "output_type": "display_data"
    },
    {
     "data": {
      "text/plain": [
       "{'corr':                 ShopID  CarModelID  CommodityID  CycleTime  Comp_isHeavy\n",
       " ShopID        1.000000    0.422398     0.339544   0.506249      0.446079\n",
       " CarModelID    0.422398    1.000000     0.595031   0.492912      0.753763\n",
       " CommodityID   0.339544    0.595031     1.000000   0.274253      0.357735\n",
       " CycleTime     0.506249    0.492912     0.274253   1.000000      0.029557\n",
       " Comp_isHeavy  0.446079    0.753763     0.357735   0.029557      1.000000,\n",
       " 'ax': <matplotlib.axes._subplots.AxesSubplot at 0x7fb2510ea890>}"
      ]
     },
     "execution_count": 71,
     "metadata": {},
     "output_type": "execute_result"
    }
   ],
   "source": [
    "#use a nominal associations heatmap for categorical features\n",
    "#interested in correlations with CycleTime\n",
    "\n",
    "nominal.associations(dff, nominal_columns=['CarModelID', 'CommodityID', 'ShopID', 'Comp_isHeavy'])"
   ]
  },
  {
   "cell_type": "markdown",
   "metadata": {},
   "source": [
    "With a quick correlation heatmap we can see some correlations between the variables. Comp_isHeavy has a slight negative relationship with CycleTime while ShopID and CommodityID have positive relationships."
   ]
  },
  {
   "cell_type": "markdown",
   "metadata": {},
   "source": [
    "I'm interested in the average cycle times for the cars so let's calculate that."
   ]
  },
  {
   "cell_type": "code",
   "execution_count": 24,
   "metadata": {},
   "outputs": [
    {
     "data": {
      "text/plain": [
       "CarModelID\n",
       "1725     19.000000\n",
       "1739     22.571429\n",
       "1898     31.860656\n",
       "1598     33.500000\n",
       "1622     34.000000\n",
       "1715     38.000000\n",
       "1698     38.500000\n",
       "1724     41.600000\n",
       "1751     43.000000\n",
       "1779     43.400000\n",
       "1762     46.000000\n",
       "1760     49.625000\n",
       "1657     51.000000\n",
       "1899     51.125000\n",
       "1597     52.250000\n",
       "1623     55.285714\n",
       "1719     55.943787\n",
       "1726     56.500000\n",
       "1909     58.636364\n",
       "1670     59.923077\n",
       "1778     60.000000\n",
       "1919     60.000000\n",
       "1630     61.000000\n",
       "1627     62.000000\n",
       "1601     62.000000\n",
       "1755     62.250000\n",
       "1635     62.375000\n",
       "1763     64.000000\n",
       "1688     65.500000\n",
       "1620     67.882353\n",
       "1602     73.461538\n",
       "1922     75.600000\n",
       "1929     76.000000\n",
       "1699     76.952381\n",
       "1634     77.000000\n",
       "1614     79.979452\n",
       "1618     80.500000\n",
       "1613     81.100000\n",
       "1619     82.263158\n",
       "843      85.000000\n",
       "1612     85.000000\n",
       "1697     85.056911\n",
       "1897     85.158537\n",
       "1611     90.023810\n",
       "1736     90.662252\n",
       "1706     90.857143\n",
       "1685     91.746575\n",
       "1632     92.388889\n",
       "1615     92.600000\n",
       "1749     93.500000\n",
       "1896     94.500000\n",
       "1643     95.000000\n",
       "1686     95.066667\n",
       "1470     96.000000\n",
       "1705     96.125000\n",
       "1639     96.231788\n",
       "1676     97.500000\n",
       "1757     99.681818\n",
       "1642    100.881356\n",
       "1616    101.000000\n",
       "1677    102.666667\n",
       "1687    102.968750\n",
       "1774    105.000000\n",
       "1607    105.500000\n",
       "1667    105.617284\n",
       "1650    105.789954\n",
       "1905    114.666667\n",
       "1661    116.333333\n",
       "1761    118.500000\n",
       "1775    119.734375\n",
       "1747    122.166667\n",
       "1743    123.375000\n",
       "1673    128.000000\n",
       "1741    130.338462\n",
       "1629    134.315789\n",
       "1621    137.758621\n",
       "1891    139.274725\n",
       "1744    140.650000\n",
       "1766    140.750000\n",
       "1769    141.000000\n",
       "1895    145.062500\n",
       "1906    145.714286\n",
       "1908    145.772727\n",
       "1746    147.000000\n",
       "1773    147.000000\n",
       "1916    151.000000\n",
       "1904    151.875000\n",
       "1636    152.600000\n",
       "1745    153.000000\n",
       "1679    159.000000\n",
       "1772    162.000000\n",
       "1734    164.333333\n",
       "1737    168.600000\n",
       "1923    169.478261\n",
       "1892    175.500000\n",
       "1672    175.500000\n",
       "1742    178.166667\n",
       "1641    187.000000\n",
       "1928    197.000000\n",
       "1770    198.000000\n",
       "1735    212.440000\n",
       "1731    253.000000\n",
       "1663    268.000000\n",
       "1920    273.000000\n",
       "Name: CycleTime, dtype: float64"
      ]
     },
     "execution_count": 24,
     "metadata": {},
     "output_type": "execute_result"
    }
   ],
   "source": [
    "#average repair cycle time for each car model\n",
    "car_avgs = dff.groupby('CarModelID')['CycleTime'].mean()\n",
    "car_avgs.sort_values()"
   ]
  },
  {
   "cell_type": "markdown",
   "metadata": {},
   "source": [
    "Next let's look at the effect of the car model has on cycle time by using a Krustal Wallis test - using the most often repaired car models.\n",
    "\n",
    "Null hypothesis: Different car models have no effect on repair cycle time.\n",
    "\n",
    "Alternative: Car models have a positive or negative effect on cycle time."
   ]
  },
  {
   "cell_type": "code",
   "execution_count": 25,
   "metadata": {},
   "outputs": [],
   "source": [
    "#create vars for cycletime values for 3 most repaired car models\n",
    "a = dff.loc[dff['CarModelID'] == 1697, 'CycleTime']\n",
    "b = dff.loc[dff['CarModelID'] == 1719, 'CycleTime']\n",
    "c = dff.loc[dff['CarModelID'] == 1639, 'CycleTime']"
   ]
  },
  {
   "cell_type": "code",
   "execution_count": 26,
   "metadata": {},
   "outputs": [
    {
     "data": {
      "text/plain": [
       "KruskalResult(statistic=94.98854216118242, pvalue=2.363198202760553e-21)"
      ]
     },
     "execution_count": 26,
     "metadata": {},
     "output_type": "execute_result"
    }
   ],
   "source": [
    "#run kruskal wallis test on models\n",
    "stats.kruskal(a, b, c)"
   ]
  },
  {
   "cell_type": "markdown",
   "metadata": {},
   "source": [
    "The test statistic is quite high and the p-value is very small - enough to reject the null hypothesis and conclude that different car models do have a significant impact on repair cycle time."
   ]
  },
  {
   "cell_type": "markdown",
   "metadata": {},
   "source": [
    "## Machine Learning"
   ]
  },
  {
   "cell_type": "markdown",
   "metadata": {},
   "source": [
    "Here machine learning algorithms will be used in an attempt to predict repair cycle times based off of other available variables."
   ]
  },
  {
   "cell_type": "code",
   "execution_count": 80,
   "metadata": {
    "scrolled": true
   },
   "outputs": [],
   "source": [
    "#create dataframe for use with machine learning models\n",
    "df_ml = dff.copy()\n",
    "\n",
    "#create array to use as predictor columns in regression models\n",
    "X = df_ml.filter(['ShopID', 'CarModelID', 'CommodityID', 'Comp_isHeavy'], axis =1).values\n",
    "\n",
    "#values to be predicted\n",
    "y = df_ml.loc(axis=1)['CycleTime'].values"
   ]
  },
  {
   "cell_type": "code",
   "execution_count": 81,
   "metadata": {},
   "outputs": [],
   "source": [
    "#split data into training and testing data\n",
    "X_train, X_test, y_train, y_test = train_test_split(X, y, test_size=.3, random_state=5)"
   ]
  },
  {
   "cell_type": "code",
   "execution_count": 82,
   "metadata": {},
   "outputs": [],
   "source": [
    "#cycle through different model types to get best fit models\n",
    "\n",
    "#create list of models with names\n",
    "models = []\n",
    "models.append(('LR', LogisticRegression()))\n",
    "models.append(('LDA', LinearDiscriminantAnalysis()))\n",
    "models.append(('KNN', KNeighborsClassifier()))\n",
    "models.append(('CART', DecisionTreeClassifier()))\n",
    "models.append(('NB', GaussianNB()))\n",
    "models.append(('RF', RandomForestClassifier()))\n",
    "models.append(('SVC', LinearSVC()))\n",
    "\n",
    "# evaluate each model\n",
    "results = []\n",
    "names = []\n",
    "scoring = 'accuracy'\n",
    "msgs = []\n",
    "@ignore_warnings(category=ConvergenceWarning)\n",
    "\n",
    "#loops through all models in a list to caclulate accuracy using cross validation scoring/optimizing \n",
    "def scores_list():\n",
    "    for name, model in models:\n",
    "        kfold = KFold(n_splits=10, random_state=5, shuffle=True)\n",
    "        cv_results = cross_val_score(model, X, y, cv=kfold, scoring=scoring)\n",
    "        results.append(cv_results)\n",
    "        names.append(name)\n",
    "        msg = \"%s: %f (%f)\" % (name, cv_results.mean(), cv_results.std())\n",
    "        msgs.append(msg)\n",
    "scores_list()"
   ]
  },
  {
   "cell_type": "code",
   "execution_count": 76,
   "metadata": {},
   "outputs": [
    {
     "data": {
      "image/png": "[encoded data removed]",
      "text/plain": [
       "<Figure size 432x288 with 1 Axes>"
      ]
     },
     "metadata": {
      "needs_background": "light"
     },
     "output_type": "display_data"
    }
   ],
   "source": [
    "# plot model accuracies with a box plot\n",
    "# boxplot algorithm comparison\n",
    "plt.rcParams.update({'font.size': 14})\n",
    "plt.rc('xtick', labelsize=12)\n",
    "plt.rc('ytick', labelsize=12)\n",
    "\n",
    "fig = plt.figure()\n",
    "fig.suptitle('Algorithm Comparison')\n",
    "ax = fig.add_subplot(111)\n",
    "plt.boxplot(results)\n",
    "ax.set_xticklabels(names)\n",
    "plt.show()"
   ]
  },
  {
   "cell_type": "markdown",
   "metadata": {},
   "source": [
    "Quick comparison of algorithms shows that random forest (RF), the decision tree classifier (CART), and K nearest neighbors (KNN) may be the best options to move forward with. While working with regression problems accuracy is not the main metric to go by it can be an okay starting point. Root mean square error (RMSE) may be the best way to check for most regression problems. While accuracy just looks at all correct predictions divided by all of them the RMSE takes into account the errors of each prediction - calculating the average magnitude of the error and gives higher weight the larger the error is. If larger errors are less of an issue than MAE can be used which does a similar calculation without squaring the errors (thus lower weights even for larger errors)."
   ]
  },
  {
   "cell_type": "markdown",
   "metadata": {},
   "source": [
    "In this case I would pursue the decision tree classifier and random forest algorithms and use the scikitlearn gridcv package to find the optimal combination of hyperparameters to achieve the best model for predicting cycle times. Potentially changing around some feature engineering in order to achieve better results (include outliers, bootstrap data, etc)."
   ]
  },
  {
   "cell_type": "markdown",
   "metadata": {},
   "source": [
    "## Conclusion"
   ]
  },
  {
   "cell_type": "markdown",
   "metadata": {},
   "source": [
    "Using this relatively narrow/small set of data we are able to predict cycle time with a very low (~6%) level of accuracy. \n",
    "\n",
    "\n",
    "With further feature engineering and optimization this model may be used to help inform the company/clients of expected cycle time based on the available information of cars. Theoretically they'll be able to use this to make better decisions for their train fleets to handle expectations and optimize management."
   ]
  },
  {
   "cell_type": "markdown",
   "metadata": {},
   "source": [
    "### Next Steps\n",
    "\n",
    "While this has helped better understand and give some insight as far as predictability - it could be greatly beneficial to run similar analysis using a larger and more comprehensive set of data (more repair types, etc).\n",
    "\n",
    "Further in the future it may be worth it to design, program, and implement a system that can help make decisions for when and how cars should be repaired - focusing on the best time for an area, which shop may be best to stop at, if its worth it to continue to another location etc. This system would also have a huge benefit if it had access to real-time updates on shop wait-times (current volume), average repair costs, and weather."
   ]
  }
 ],
 "metadata": {
  "kernelspec": {
   "display_name": "Python 3",
   "language": "python",
   "name": "python3"
  },
  "language_info": {
   "codemirror_mode": {
    "name": "ipython",
    "version": 3
   },
   "file_extension": ".py",
   "mimetype": "text/x-python",
   "name": "python",
   "nbconvert_exporter": "python",
   "pygments_lexer": "ipython3",
   "version": "3.7.6"
  }
 },
 "nbformat": 4,
 "nbformat_minor": 4
}
